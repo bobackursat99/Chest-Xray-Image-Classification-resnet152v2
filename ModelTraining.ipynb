{
  "nbformat": 4,
  "nbformat_minor": 0,
  "metadata": {
    "colab": {
      "provenance": [],
      "gpuType": "V100",
      "machine_shape": "hm"
    },
    "kernelspec": {
      "name": "python3",
      "display_name": "Python 3"
    },
    "language_info": {
      "name": "python"
    },
    "accelerator": "GPU"
  },
  "cells": [
    {
      "cell_type": "code",
      "execution_count": null,
      "metadata": {
        "colab": {
          "base_uri": "https://localhost:8080/"
        },
        "id": "FgYb9k_HAu5L",
        "outputId": "e2031a8d-6fb9-41ca-8ce5-d05602e40b33"
      },
      "outputs": [
        {
          "output_type": "stream",
          "name": "stdout",
          "text": [
            "Downloading data from https://storage.googleapis.com/tensorflow/keras-applications/resnet/resnet152v2_weights_tf_dim_ordering_tf_kernels_notop.h5\n",
            "234545216/234545216 [==============================] - 6s 0us/step\n",
            "Model: \"sequential\"\n",
            "_________________________________________________________________\n",
            " Layer (type)                Output Shape              Param #   \n",
            "=================================================================\n",
            " resnet152v2 (Functional)    (None, 7, 7, 2048)        58331648  \n",
            "                                                                 \n",
            " global_average_pooling2d (  (None, 2048)              0         \n",
            " GlobalAveragePooling2D)                                         \n",
            "                                                                 \n",
            " flatten (Flatten)           (None, 2048)              0         \n",
            "                                                                 \n",
            " dense (Dense)               (None, 128)               262272    \n",
            "                                                                 \n",
            " dropout (Dropout)           (None, 128)               0         \n",
            "                                                                 \n",
            " dense_1 (Dense)             (None, 4)                 516       \n",
            "                                                                 \n",
            "=================================================================\n",
            "Total params: 58594436 (223.52 MB)\n",
            "Trainable params: 262788 (1.00 MB)\n",
            "Non-trainable params: 58331648 (222.52 MB)\n",
            "_________________________________________________________________\n"
          ]
        }
      ],
      "source": [
        "from keras.models import Sequential\n",
        "from keras.layers import Conv2D, MaxPooling2D, Flatten, Dense, GlobalAveragePooling2D, Dropout\n",
        "from keras.preprocessing.image import ImageDataGenerator\n",
        "\n",
        "img_width, img_height = 224, 224\n",
        "\n",
        "\n",
        "from keras.applications import ResNet152V2\n",
        "from keras.models import Sequential\n",
        "from keras.layers import Dense, Flatten\n",
        "\n",
        "resnet = ResNet152V2(weights='imagenet', include_top=False, input_shape=(img_width, img_height, 3))\n",
        "\n",
        "for layer in resnet.layers:\n",
        "    layer.trainable = False\n",
        "\n",
        "model = Sequential()\n",
        "model.add(resnet)\n",
        "model.add(GlobalAveragePooling2D())\n",
        "model.add(Flatten())\n",
        "model.add(Dense(128, activation='relu'))\n",
        "model.add(Dropout(0.2))\n",
        "model.add(Dense(4, activation='softmax'))\n",
        "\n",
        "model.compile(optimizer='adam', loss='categorical_crossentropy', metrics=['accuracy'])\n",
        "\n",
        "model.summary()"
      ]
    },
    {
      "cell_type": "code",
      "source": [
        "epochs = 15\n",
        "\n",
        "train_datagen = ImageDataGenerator(rescale=1./255)\n",
        "\n",
        "train_generator = train_datagen.flow_from_directory(\n",
        "    '/content/drive/MyDrive/new Dataset Senior - Kopya/TRAIN',\n",
        "    target_size=(img_width, img_height),\n",
        "    batch_size=64,\n",
        "    class_mode='categorical')\n",
        "\n",
        "\n",
        "test_datagen = ImageDataGenerator(rescale=1./255)\n",
        "\n",
        "test_generator = test_datagen.flow_from_directory(\n",
        "    '/content/drive/MyDrive/new Dataset Senior - Kopya/TEST',\n",
        "    target_size=(img_width, img_height),\n",
        "    batch_size=64,\n",
        "    class_mode='categorical',\n",
        "    shuffle=False)\n"
      ],
      "metadata": {
        "colab": {
          "base_uri": "https://localhost:8080/"
        },
        "id": "F8IzjRZuIync",
        "outputId": "38377d43-7bea-46d4-c6f1-c9d6a79cad12"
      },
      "execution_count": null,
      "outputs": [
        {
          "output_type": "stream",
          "name": "stdout",
          "text": [
            "Found 11700 images belonging to 4 classes.\n",
            "Found 3002 images belonging to 4 classes.\n"
          ]
        }
      ]
    },
    {
      "cell_type": "code",
      "source": [
        "train_generator.class_indices"
      ],
      "metadata": {
        "id": "nzI8bxnWI_qm",
        "colab": {
          "base_uri": "https://localhost:8080/"
        },
        "outputId": "54b66e71-cb4e-47d7-9e56-9fc1769838f3"
      },
      "execution_count": null,
      "outputs": [
        {
          "output_type": "execute_result",
          "data": {
            "text/plain": [
              "{'COVID': 0, 'LUNG OPACITY': 1, 'NORMAL': 2, 'PNEUMONIA': 3}"
            ]
          },
          "metadata": {},
          "execution_count": 3
        }
      ]
    },
    {
      "cell_type": "code",
      "source": [
        "model.fit(\n",
        "    train_generator,\n",
        "    epochs=epochs\n",
        "   )\n",
        "\n",
        "model.save('pnomoni_model_Senior_sunum_real.h5')"
      ],
      "metadata": {
        "colab": {
          "base_uri": "https://localhost:8080/"
        },
        "id": "ynY1NaYoJUzO",
        "outputId": "8280a371-ddf6-4b5b-f1fc-cb5007c3df33"
      },
      "execution_count": null,
      "outputs": [
        {
          "output_type": "stream",
          "name": "stdout",
          "text": [
            "Epoch 1/15\n",
            "183/183 [==============================] - 4594s 25s/step - loss: 0.5315 - accuracy: 0.7931\n",
            "Epoch 2/15\n",
            "183/183 [==============================] - 63s 345ms/step - loss: 0.3472 - accuracy: 0.8680\n",
            "Epoch 3/15\n",
            "183/183 [==============================] - 63s 341ms/step - loss: 0.2813 - accuracy: 0.8920\n",
            "Epoch 4/15\n",
            "183/183 [==============================] - 61s 330ms/step - loss: 0.2406 - accuracy: 0.9104\n",
            "Epoch 5/15\n",
            "183/183 [==============================] - 61s 331ms/step - loss: 0.2196 - accuracy: 0.9196\n",
            "Epoch 6/15\n",
            "183/183 [==============================] - 59s 324ms/step - loss: 0.1803 - accuracy: 0.9345\n",
            "Epoch 7/15\n",
            "183/183 [==============================] - 60s 329ms/step - loss: 0.1570 - accuracy: 0.9427\n",
            "Epoch 8/15\n",
            "183/183 [==============================] - 60s 325ms/step - loss: 0.1448 - accuracy: 0.9474\n",
            "Epoch 9/15\n",
            "183/183 [==============================] - 60s 330ms/step - loss: 0.1217 - accuracy: 0.9560\n",
            "Epoch 10/15\n",
            "183/183 [==============================] - 60s 327ms/step - loss: 0.1014 - accuracy: 0.9662\n",
            "Epoch 11/15\n",
            "183/183 [==============================] - 59s 319ms/step - loss: 0.0931 - accuracy: 0.9690\n",
            "Epoch 12/15\n",
            "183/183 [==============================] - 61s 333ms/step - loss: 0.0849 - accuracy: 0.9701\n",
            "Epoch 13/15\n",
            "183/183 [==============================] - 61s 335ms/step - loss: 0.0730 - accuracy: 0.9768\n",
            "Epoch 14/15\n",
            "183/183 [==============================] - 63s 342ms/step - loss: 0.0688 - accuracy: 0.9766\n",
            "Epoch 15/15\n",
            "183/183 [==============================] - 62s 338ms/step - loss: 0.0591 - accuracy: 0.9798\n"
          ]
        },
        {
          "output_type": "stream",
          "name": "stderr",
          "text": [
            "/usr/local/lib/python3.10/dist-packages/keras/src/engine/training.py:3103: UserWarning: You are saving your model as an HDF5 file via `model.save()`. This file format is considered legacy. We recommend using instead the native Keras format, e.g. `model.save('my_model.keras')`.\n",
            "  saving_api.save_model(\n"
          ]
        }
      ]
    },
    {
      "cell_type": "code",
      "source": [
        "model.save('/content/drive/MyDrive/pnomoni_model_Senior_sunum_real.h5')"
      ],
      "metadata": {
        "id": "2WqtrFEq8Zro"
      },
      "execution_count": null,
      "outputs": []
    },
    {
      "cell_type": "code",
      "source": [
        "test_loss, test_accuracy = model.evaluate(test_generator)\n",
        "print(\"Test Loss:\", test_loss)\n",
        "print(\"Test Accuracy:\", test_accuracy)\n",
        "\n",
        "predictions = model.predict(test_generator)\n",
        "true_labels = test_generator.classes\n",
        "\n",
        "from sklearn.metrics import classification_report\n",
        "print(classification_report(true_labels, predictions.argmax(axis=1)))\n",
        "\n",
        "from sklearn.metrics import confusion_matrix, precision_score, recall_score\n",
        "conf_matrix = confusion_matrix(true_labels, predictions.argmax(axis=1))\n",
        "print(\"Confusion Matrix:\")\n",
        "print(conf_matrix)\n",
        "\n",
        "\n",
        "precision = precision_score(true_labels, predictions.argmax(axis=1), average=None)\n",
        "recall = recall_score(true_labels, predictions.argmax(axis=1), average=None)\n",
        "print(\"Precision:\", precision)\n",
        "print(\"Recall:\", recall)\n"
      ],
      "metadata": {
        "colab": {
          "base_uri": "https://localhost:8080/"
        },
        "id": "v-Pc2Fud1zrY",
        "outputId": "7352b16b-9785-4c5a-8d07-90b9c6435f35"
      },
      "execution_count": null,
      "outputs": [
        {
          "output_type": "stream",
          "name": "stdout",
          "text": [
            "47/47 [==============================] - 1055s 23s/step - loss: 0.2332 - accuracy: 0.9127\n",
            "Test Loss: 0.23324528336524963\n",
            "Test Accuracy: 0.9127248525619507\n",
            "47/47 [==============================] - 18s 336ms/step\n",
            "              precision    recall  f1-score   support\n",
            "\n",
            "           0       0.85      0.97      0.91       875\n",
            "           1       0.95      0.86      0.90       768\n",
            "           2       0.91      0.84      0.88       822\n",
            "           3       0.97      1.00      0.99       537\n",
            "\n",
            "    accuracy                           0.91      3002\n",
            "   macro avg       0.92      0.92      0.92      3002\n",
            "weighted avg       0.92      0.91      0.91      3002\n",
            "\n",
            "Confusion Matrix:\n",
            "[[848   1  23   3]\n",
            " [ 59 661  46   2]\n",
            " [ 86  33 694   9]\n",
            " [  0   0   0 537]]\n",
            "Precision: [0.85397784 0.95107914 0.9095675  0.97459165]\n",
            "Recall: [0.96914286 0.86067708 0.84428224 1.        ]\n"
          ]
        }
      ]
    },
    {
      "cell_type": "code",
      "source": [
        "from keras.preprocessing import image\n",
        "import numpy as np\n",
        "\n",
        "img_path = '/content/drive/MyDrive/new Dataset Senior - Kopya/TEST2/LUNG OPACITY/10289.png'\n",
        "img = image.load_img(img_path, target_size=(img_width, img_height))\n",
        "img_array = image.img_to_array(img)\n",
        "img_array = np.expand_dims(img_array, axis=0)\n",
        "img_array = img_array / 255.0\n",
        "\n",
        "predictions = model.predict(img_array)\n",
        "\n",
        "# Get the predicted class label\n",
        "predicted_class = np.argmax(predictions)\n",
        "class_names = ['Covid', 'Lung Opacity', 'Normal', 'PNEUMONIA']\n",
        "print(\"Prediction:\", class_names[predicted_class])"
      ],
      "metadata": {
        "colab": {
          "base_uri": "https://localhost:8080/"
        },
        "id": "CvEyaefc5sfu",
        "outputId": "278e83c6-8159-4656-bc72-9db095b7707e"
      },
      "execution_count": null,
      "outputs": [
        {
          "output_type": "stream",
          "name": "stdout",
          "text": [
            "1/1 [==============================] - 0s 38ms/step\n",
            "Prediction: Lung Opacity\n"
          ]
        }
      ]
    }
  ]
}